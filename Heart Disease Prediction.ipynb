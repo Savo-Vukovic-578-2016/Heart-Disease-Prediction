{
 "cells": [
  {
   "cell_type": "markdown",
   "metadata": {},
   "source": [
    "# Heart Disease Prediction by Savo Vukovic\n",
    "\n",
    "- Медицинска дијагноза одређених обољења, на пољу медицине помоћу машинског учења, је изузетно напредовала у протеклих неколико година. Главна примена се види у томе да се пацијентима (без икаквог трошка и надокнаде) поставља скоро савршена дијагностика, препоручују лекови који су се показали најбоље за одређено обољење и откривају обољења којима су сами пацијенти склони, све уз помоћ напретка на пољу машинског учења. Ове предикције су засноване на јавно доступним подацима који су прикупљани током година.\n",
    "\n",
    "## Libraries"
   ]
  },
  {
   "cell_type": "code",
   "execution_count": 1,
   "metadata": {},
   "outputs": [],
   "source": [
    "import sys\n",
    "import scipy\n",
    "import numpy\n",
    "import matplotlib\n",
    "import pandas\n",
    "import sklearn\n",
    "from pandas.plotting import scatter_matrix\n",
    "import matplotlib.pyplot as plt\n",
    "from sklearn import model_selection\n",
    "from sklearn.metrics import classification_report\n",
    "from sklearn.metrics import confusion_matrix\n",
    "from sklearn.metrics import accuracy_score\n",
    "from sklearn.linear_model import LogisticRegression\n",
    "from sklearn.neighbors import KNeighborsClassifier\n",
    "from sklearn.model_selection import StratifiedKFold\n",
    "from sklearn.svm import SVC"
   ]
  },
  {
   "cell_type": "markdown",
   "metadata": {},
   "source": [
    "## Dataset\n",
    "- source of the dataset: \n",
    "    https://archive.ics.uci.edu/ml/machine-learning-databases/heart-disease/processed.cleveland.data "
   ]
  },
  {
   "cell_type": "code",
   "execution_count": 2,
   "metadata": {},
   "outputs": [
    {
     "name": "stdout",
     "output_type": "stream",
     "text": [
      "(303, 14)\n"
     ]
    }
   ],
   "source": [
    "names = ['age','sex','cp','trestbps','chol','fbs','restecg','thalach','exang','oldpeak','slope','ca','thal','class']\n",
    "dataset = pandas.read_csv(\"heart-disease.data\", names=names)\n",
    "\n",
    "# let's see how the dataset looks like\n",
    "print(dataset.shape)"
   ]
  },
  {
   "cell_type": "markdown",
   "metadata": {},
   "source": [
    "## Attributes\n",
    "- **age**, старост пацијента\n",
    "- **sex**, пол пацијента\n",
    "- **cp**, тип бола у грудима [1: типична ангина,2: атипична ангина,3: неагинални бол,4: асимптоматски]\n",
    "- **trestbps**, индикатор за крвни притисак\n",
    "- **chol**, ниво холестерола\n",
    "- **fbs**, индикатор везан за шећер\n",
    "- **restecg**, резултат ЕКГ-а\n",
    "- **thalach**, максимални ниво крвног притиска током обзервације пацијента\n",
    "- **exang**, ангина изазвана напором (да или не)\n",
    "- **oldpeak**, СТ депресија изазвана вежбањем у односу на одмор\n",
    "- **slope**, нагиб врха СТ сегмента вежбе\n",
    "- **ca**, број главних пловила\n",
    "- **thal**, време трајања теста изражено у минутима"
   ]
  },
  {
   "cell_type": "markdown",
   "metadata": {},
   "source": [
    "## Class distribution"
   ]
  },
  {
   "cell_type": "code",
   "execution_count": 3,
   "metadata": {},
   "outputs": [
    {
     "name": "stdout",
     "output_type": "stream",
     "text": [
      "class\n",
      "0    138\n",
      "1    165\n",
      "dtype: int64\n"
     ]
    }
   ],
   "source": [
    "print(dataset.groupby('class').size())"
   ]
  },
  {
   "cell_type": "markdown",
   "metadata": {},
   "source": [
    "## Validation (training) and test sets\n",
    "- 20% of the whole dataset will be used for the validation set while the other 80% will be used for training."
   ]
  },
  {
   "cell_type": "code",
   "execution_count": 4,
   "metadata": {},
   "outputs": [],
   "source": [
    "array = dataset.values\n",
    "X = array[:,0:13]\n",
    "Y = array[:,13]\n",
    "\n",
    "validation_size = 0.20\n",
    "X_train, X_validation, Y_train, Y_validation = model_selection.train_test_split(X, Y, test_size = validation_size, random_state = 14)"
   ]
  },
  {
   "cell_type": "markdown",
   "metadata": {},
   "source": [
    "## Models"
   ]
  },
  {
   "cell_type": "code",
   "execution_count": 5,
   "metadata": {},
   "outputs": [],
   "source": [
    "models = []\n",
    "models.append(('LR', LogisticRegression(solver='liblinear', multi_class='auto')))\n",
    "models.append(('SVM', SVC(kernel='linear')))\n",
    "models.append(('KNN', KNeighborsClassifier()))"
   ]
  },
  {
   "cell_type": "markdown",
   "metadata": {},
   "source": [
    "![](models.png \"Models\")"
   ]
  },
  {
   "cell_type": "markdown",
   "metadata": {},
   "source": [
    "## Cross validation\n",
    "- We'll split our dataset into 10 different parts (9 for training and 1 for testing), repeat that for every block."
   ]
  },
  {
   "cell_type": "markdown",
   "metadata": {},
   "source": [
    "## Applying cross-validation, splitting the data"
   ]
  },
  {
   "cell_type": "code",
   "execution_count": 6,
   "metadata": {},
   "outputs": [
    {
     "name": "stdout",
     "output_type": "stream",
     "text": [
      "LR: 0.843000 (0.051633)\n",
      "SVM: 0.851000 (0.050267)\n",
      "KNN: 0.652333 (0.091376)\n"
     ]
    }
   ],
   "source": [
    "seed = 14\n",
    "scoring = 'accuracy'\n",
    "\n",
    "# cross validate all the models\n",
    "results = []\n",
    "names = []\n",
    "\n",
    "for name, model in models:\n",
    "    # model_selection.KFold basically splits the data into different parts.\n",
    "    kfold = model_selection.KFold(shuffle = True, n_splits=10,random_state = seed)\n",
    "    # apply cross validation\n",
    "    cross_val_results = model_selection.cross_val_score(model, X_train, Y_train, cv=kfold, scoring=scoring)\n",
    "    # for each model append cross validation scores.\n",
    "    results.append(cross_val_results)\n",
    "    # get the name of the current model (this is mainly used for printing)\n",
    "    names.append(name)\n",
    "    print(\"%s: %f (%f)\" % (name, cross_val_results.mean(), cross_val_results.std()))"
   ]
  },
  {
   "cell_type": "markdown",
   "metadata": {},
   "source": [
    "## Making predictions\n",
    "- mean score of **Support Vector Machines** at the time of the testing was near 90%, which makes the model an apsolute winner"
   ]
  },
  {
   "cell_type": "code",
   "execution_count": 7,
   "metadata": {},
   "outputs": [
    {
     "name": "stdout",
     "output_type": "stream",
     "text": [
      "LR\n",
      "0.7868852459016393\n",
      "              precision    recall  f1-score   support\n",
      "\n",
      "         0.0       0.86      0.66      0.75        29\n",
      "         1.0       0.74      0.91      0.82        32\n",
      "\n",
      "    accuracy                           0.79        61\n",
      "   macro avg       0.80      0.78      0.78        61\n",
      "weighted avg       0.80      0.79      0.78        61\n",
      "\n",
      "SVM\n",
      "0.819672131147541\n",
      "              precision    recall  f1-score   support\n",
      "\n",
      "         0.0       0.88      0.72      0.79        29\n",
      "         1.0       0.78      0.91      0.84        32\n",
      "\n",
      "    accuracy                           0.82        61\n",
      "   macro avg       0.83      0.82      0.82        61\n",
      "weighted avg       0.83      0.82      0.82        61\n",
      "\n",
      "KNN\n",
      "0.5737704918032787\n",
      "              precision    recall  f1-score   support\n",
      "\n",
      "         0.0       0.55      0.59      0.57        29\n",
      "         1.0       0.60      0.56      0.58        32\n",
      "\n",
      "    accuracy                           0.57        61\n",
      "   macro avg       0.57      0.57      0.57        61\n",
      "weighted avg       0.58      0.57      0.57        61\n",
      "\n"
     ]
    }
   ],
   "source": [
    "for name, model in models:\n",
    "    model.fit(X_train, Y_train)\n",
    "    predictions = model.predict(X_validation)\n",
    "    print(name)\n",
    "    print(accuracy_score(Y_validation, predictions))\n",
    "    print(classification_report(Y_validation, predictions))"
   ]
  },
  {
   "cell_type": "code",
   "execution_count": 14,
   "metadata": {},
   "outputs": [
    {
     "name": "stdout",
     "output_type": "stream",
     "text": [
      "LR: 0.000000\n",
      "SVM: 0.000000\n",
      "KNN: 0.000000\n"
     ]
    }
   ],
   "source": [
    "subject_savo = [[23,1,0,120,233,0,0,90,1,2.3,0,0,1]]\n",
    "for name, model in models:\n",
    "    model.fit(X_train, Y_train)\n",
    "    prediction = model.predict(subject_savo)\n",
    "    print(\"%s: %f\" % (name,prediction))"
   ]
  },
  {
   "cell_type": "code",
   "execution_count": null,
   "metadata": {},
   "outputs": [],
   "source": []
  }
 ],
 "metadata": {
  "kernelspec": {
   "display_name": "Python 3",
   "language": "python",
   "name": "python3"
  },
  "language_info": {
   "codemirror_mode": {
    "name": "ipython",
    "version": 3
   },
   "file_extension": ".py",
   "mimetype": "text/x-python",
   "name": "python",
   "nbconvert_exporter": "python",
   "pygments_lexer": "ipython3",
   "version": "3.7.4"
  }
 },
 "nbformat": 4,
 "nbformat_minor": 2
}
